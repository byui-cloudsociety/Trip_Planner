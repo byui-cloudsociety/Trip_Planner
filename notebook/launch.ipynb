{
 "cells": [
  {
   "cell_type": "code",
   "execution_count": null,
   "metadata": {
    "vscode": {
     "languageId": "plaintext"
    }
   },
   "outputs": [],
   "source": [
    "!pip install pandas numpy gensim scikit-learn"
   ]
  },
  {
   "cell_type": "code",
   "execution_count": null,
   "metadata": {
    "vscode": {
     "languageId": "plaintext"
    }
   },
   "outputs": [],
   "source": [
    "# Import the class\n",
    "from word2Vec import POIRecommenderWord2Vec\n",
    "from tfidf import POIRecommenderTFIDF"
   ]
  },
  {
   "cell_type": "code",
   "execution_count": null,
   "metadata": {
    "vscode": {
     "languageId": "plaintext"
    }
   },
   "outputs": [],
   "source": [
    "# Instantiate and train Word2Vec-based recommender\n",
    "recommender_w2v = POIRecommenderWord2Vec()\n",
    "recommender_w2v.train('poiTrainingData.csv')  # Ensure the CSV is uploaded to the Jupyter environment"
   ]
  },
  {
   "cell_type": "code",
   "execution_count": null,
   "metadata": {
    "vscode": {
     "languageId": "plaintext"
    }
   },
   "outputs": [],
   "source": [
    "# Get recommendations\n",
    "user_interests = \"museum; art; history\"\n",
    "recommendations_w2v = recommender_w2v.get_recommendations(user_interests, n_recommendations=3)"
   ]
  },
  {
   "cell_type": "code",
   "execution_count": null,
   "metadata": {
    "vscode": {
     "languageId": "plaintext"
    }
   },
   "outputs": [],
   "source": [
    "# Instantiate and train TF-IDF-based recommender\n",
    "recommender_tfidf = POIRecommenderTFIDF()\n",
    "recommender_tfidf.train('poiTrainingData.csv')"
   ]
  },
  {
   "cell_type": "code",
   "execution_count": null,
   "metadata": {
    "vscode": {
     "languageId": "plaintext"
    }
   },
   "outputs": [],
   "source": [
    "# Get recommendations\n",
    "recommendations_tfidf = recommender_tfidf.get_recommendations(user_interests, n_recommendations=3)"
   ]
  },
  {
   "cell_type": "code",
   "execution_count": null,
   "metadata": {
    "vscode": {
     "languageId": "plaintext"
    }
   },
   "outputs": [],
   "source": [
    "# Print recommendations\n",
    "print(\"Word2Vec Recommendations:\")\n",
    "for rec in recommendations_w2v:\n",
    "    print(rec)"
   ]
  },
  {
   "cell_type": "code",
   "execution_count": null,
   "metadata": {
    "vscode": {
     "languageId": "plaintext"
    }
   },
   "outputs": [],
   "source": [
    "print(\"\\nTF-IDF Recommendations:\")\n",
    "for rec in recommendations_tfidf:\n",
    "    print(rec)"
   ]
  }
 ],
 "metadata": {
  "language_info": {
   "name": "python"
  }
 },
 "nbformat": 4,
 "nbformat_minor": 2
}
